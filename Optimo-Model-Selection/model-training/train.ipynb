{
 "cells": [
  {
   "cell_type": "code",
   "execution_count": 1,
   "id": "ae23cced",
   "metadata": {},
   "outputs": [
    {
     "name": "stdout",
     "output_type": "stream",
     "text": [
      "/home/seonwoo0808/NET-Zero\n"
     ]
    }
   ],
   "source": [
    "import pandas as pd\n",
    "import numpy as np\n",
    "import os\n",
    "from tqdm import tqdm\n",
    "\n",
    "print(os.getcwd())"
   ]
  },
  {
   "cell_type": "code",
   "execution_count": 2,
   "id": "f2a90127",
   "metadata": {},
   "outputs": [
    {
     "name": "stderr",
     "output_type": "stream",
     "text": [
      "2025-06-25 18:09:24.284982: E external/local_xla/xla/stream_executor/cuda/cuda_fft.cc:467] Unable to register cuFFT factory: Attempting to register factory for plugin cuFFT when one has already been registered\n",
      "WARNING: All log messages before absl::InitializeLog() is called are written to STDERR\n",
      "E0000 00:00:1750874964.301520   68503 cuda_dnn.cc:8579] Unable to register cuDNN factory: Attempting to register factory for plugin cuDNN when one has already been registered\n",
      "E0000 00:00:1750874964.306617   68503 cuda_blas.cc:1407] Unable to register cuBLAS factory: Attempting to register factory for plugin cuBLAS when one has already been registered\n",
      "W0000 00:00:1750874964.320148   68503 computation_placer.cc:177] computation placer already registered. Please check linkage and avoid linking the same target more than once.\n",
      "W0000 00:00:1750874964.320160   68503 computation_placer.cc:177] computation placer already registered. Please check linkage and avoid linking the same target more than once.\n",
      "W0000 00:00:1750874964.320162   68503 computation_placer.cc:177] computation placer already registered. Please check linkage and avoid linking the same target more than once.\n",
      "W0000 00:00:1750874964.320163   68503 computation_placer.cc:177] computation placer already registered. Please check linkage and avoid linking the same target more than once.\n",
      "2025-06-25 18:09:24.324128: I tensorflow/core/platform/cpu_feature_guard.cc:210] This TensorFlow binary is optimized to use available CPU instructions in performance-critical operations.\n",
      "To enable the following instructions: AVX2 FMA, in other operations, rebuild TensorFlow with the appropriate compiler flags.\n"
     ]
    }
   ],
   "source": [
    "import sentencepiece\n",
    "import tensorflow as tf\n",
    "import transformers \n",
    "from transformers import TFBertModel\n",
    "from sklearn.model_selection import train_test_split\n",
    "# MIN MAX SCALING\n",
    "from sklearn.preprocessing import MinMaxScaler\n",
    "\n",
    "from kobert_tokenizer import KoBERTTokenizer"
   ]
  },
  {
   "cell_type": "code",
   "execution_count": 3,
   "id": "7cdb974b",
   "metadata": {},
   "outputs": [
    {
     "data": {
      "text/html": [
       "<div>\n",
       "<style scoped>\n",
       "    .dataframe tbody tr th:only-of-type {\n",
       "        vertical-align: middle;\n",
       "    }\n",
       "\n",
       "    .dataframe tbody tr th {\n",
       "        vertical-align: top;\n",
       "    }\n",
       "\n",
       "    .dataframe thead th {\n",
       "        text-align: right;\n",
       "    }\n",
       "</style>\n",
       "<table border=\"1\" class=\"dataframe\">\n",
       "  <thead>\n",
       "    <tr style=\"text-align: right;\">\n",
       "      <th></th>\n",
       "      <th>question</th>\n",
       "      <th>origin_gpt4o_distance</th>\n",
       "      <th>origin_gpt4o_mini_distance</th>\n",
       "    </tr>\n",
       "  </thead>\n",
       "  <tbody>\n",
       "    <tr>\n",
       "      <th>0</th>\n",
       "      <td>구름을 보고 느끼는 감정에 대한 주제로 시를 써줘.</td>\n",
       "      <td>1.151845</td>\n",
       "      <td>1.176787</td>\n",
       "    </tr>\n",
       "    <tr>\n",
       "      <th>1</th>\n",
       "      <td>산림의 주요 기능은 무엇이며, 환경 보호와 관련하여 어떤 역할을 하나요?</td>\n",
       "      <td>0.902078</td>\n",
       "      <td>0.866451</td>\n",
       "    </tr>\n",
       "    <tr>\n",
       "      <th>2</th>\n",
       "      <td>화학 반응에서 열역학 법칙은 어떻게 적용되며 어떤 예제가 있나요?</td>\n",
       "      <td>1.117957</td>\n",
       "      <td>1.068622</td>\n",
       "    </tr>\n",
       "    <tr>\n",
       "      <th>3</th>\n",
       "      <td>유리공예 작업할 때 필요한 도구와 재료가 뭐야?</td>\n",
       "      <td>0.953836</td>\n",
       "      <td>0.814288</td>\n",
       "    </tr>\n",
       "    <tr>\n",
       "      <th>4</th>\n",
       "      <td>산맥에서 어떤 종류의 동식물이 발견될까요?</td>\n",
       "      <td>1.151274</td>\n",
       "      <td>0.983507</td>\n",
       "    </tr>\n",
       "  </tbody>\n",
       "</table>\n",
       "</div>"
      ],
      "text/plain": [
       "                                   question  origin_gpt4o_distance  \\\n",
       "0              구름을 보고 느끼는 감정에 대한 주제로 시를 써줘.               1.151845   \n",
       "1  산림의 주요 기능은 무엇이며, 환경 보호와 관련하여 어떤 역할을 하나요?               0.902078   \n",
       "2      화학 반응에서 열역학 법칙은 어떻게 적용되며 어떤 예제가 있나요?               1.117957   \n",
       "3                유리공예 작업할 때 필요한 도구와 재료가 뭐야?               0.953836   \n",
       "4                   산맥에서 어떤 종류의 동식물이 발견될까요?               1.151274   \n",
       "\n",
       "   origin_gpt4o_mini_distance  \n",
       "0                    1.176787  \n",
       "1                    0.866451  \n",
       "2                    1.068622  \n",
       "3                    0.814288  \n",
       "4                    0.983507  "
      ]
     },
     "execution_count": 3,
     "metadata": {},
     "output_type": "execute_result"
    }
   ],
   "source": [
    "df = pd.read_csv('./data/SFTlabel_with_distances.csv') \n",
    "\n",
    "# drop unnecessary columns\n",
    "df = df.drop(columns=['contents', 'gpt4o_answer', 'gpt4o_mini_answer'])\n",
    "df.head()"
   ]
  },
  {
   "cell_type": "code",
   "execution_count": 4,
   "id": "5d52eba8",
   "metadata": {},
   "outputs": [
    {
     "name": "stdout",
     "output_type": "stream",
     "text": [
      "1.4054266161083642 1.407758604760598 0.9460541281817556 0.9001182491872406 0.5119266437650143 0.4581584214480576\n",
      "(2596,)\n",
      "0.5390429862386011 0.04837391546648035 -0.36597151768720304\n",
      "(1298,) (1298, 1) (1298, 1)\n"
     ]
    }
   ],
   "source": [
    "X_raw = df['question']\n",
    "y1 = df['origin_gpt4o_distance'].to_numpy()\n",
    "y2 = df['origin_gpt4o_mini_distance'].to_numpy()\n",
    "\n",
    "print(np.max(y1), np.max(y2), np.mean(y1), np.mean(y2), np.min(y1), np.min(y2))\n",
    "\n",
    "length = len(y1)\n",
    "\n",
    "y_in_row = np.append(y1, y2).reshape(length*2)\n",
    "print(y_in_row.shape)\n",
    "\n",
    "# Min-Max Scaling\n",
    "scaler = MinMaxScaler()\n",
    "result = scaler.fit_transform(y_in_row.reshape(-1, 1))\n",
    "y1 = result[:length]\n",
    "y2 = result[length:]\n",
    "\n",
    "diff = y1 - y2\n",
    "print(np.max(diff), np.mean(diff), np.min(diff))\n",
    "\n",
    "print(X_raw.shape, y1.shape, y2.shape)\n",
    "\n",
    "y = np.column_stack((y1, y2))\n",
    "\n"
   ]
  },
  {
   "cell_type": "code",
   "execution_count": 5,
   "id": "df71e75f",
   "metadata": {},
   "outputs": [
    {
     "name": "stderr",
     "output_type": "stream",
     "text": [
      "The tokenizer class you load from this checkpoint is not the same type as the class this function is called from. It may result in unexpected tokenization. \n",
      "The tokenizer class you load from this checkpoint is 'XLNetTokenizer'. \n",
      "The class this function is called from is 'KoBERTTokenizer'.\n"
     ]
    },
    {
     "name": "stdout",
     "output_type": "stream",
     "text": [
      "[   2 1115 6117 7088 2358 1546 5760  803 6896 1682 4240 2959 6116 3080\n",
      " 7303   54    3    1    1    1    1    1    1    1    1    1    1    1\n",
      "    1    1    1    1    1    1    1    1    1    1    1    1    1    1\n",
      "    1    1    1    1    1    1    1    1    1    1    1    1    1    1\n",
      "    1    1    1    1    1    1    1    1    1    1    1    1    1    1\n",
      "    1    1    1    1    1    1    1    1    1    1    1    1    1    1\n",
      "    1    1    1    1    1    1    1    1    1    1    1    1    1    1\n",
      "    1    1    1    1    1    1    1    1    1    1    1    1    1    1\n",
      "    1    1    1    1    1    1    1    1    1    1    1    1    1    1\n",
      "    1    1] [1 1 1 1 1 1 1 1 1 1 1 1 1 1 1 1 1 0 0 0 0 0 0 0 0 0 0 0 0 0 0 0 0 0 0 0 0\n",
      " 0 0 0 0 0 0 0 0 0 0 0 0 0 0 0 0 0 0 0 0 0 0 0 0 0 0 0 0 0 0 0 0 0 0 0 0 0\n",
      " 0 0 0 0 0 0 0 0 0 0 0 0 0 0 0 0 0 0 0 0 0 0 0 0 0 0 0 0 0 0 0 0 0 0 0 0 0\n",
      " 0 0 0 0 0 0 0 0 0 0 0 0 0 0 0 0 0]\n"
     ]
    }
   ],
   "source": [
    "# Load KoBERT tokenizer\n",
    "tokenizer = KoBERTTokenizer.from_pretrained('skt/kobert-base-v1')\n",
    "\n",
    "X_tokenized = tokenizer(\n",
    "    X_raw.tolist(),\n",
    "    padding='max_length',\n",
    "    truncation=True,\n",
    "    max_length=128,\n",
    "    return_tensors='np',\n",
    ")\n",
    "\n",
    "# make 3D tensor\n",
    "X_id = X_tokenized['input_ids'] # (10000, 128)\n",
    "X_mask = X_tokenized['attention_mask'] # (10000, 128)\n",
    "\n",
    "print(X_id[0], X_mask[0])\n",
    "# (10000,2, 128)\n",
    "X = np.stack([X_id, X_mask], axis=1) # (10000, 2, 128)\n"
   ]
  },
  {
   "cell_type": "code",
   "execution_count": 6,
   "id": "5dd65165",
   "metadata": {},
   "outputs": [
    {
     "data": {
      "text/plain": [
       "((1298, 2, 128), (1298, 2))"
      ]
     },
     "execution_count": 6,
     "metadata": {},
     "output_type": "execute_result"
    }
   ],
   "source": [
    "X.shape, y.shape"
   ]
  },
  {
   "cell_type": "code",
   "execution_count": 7,
   "id": "d52952ff",
   "metadata": {},
   "outputs": [
    {
     "data": {
      "text/plain": [
       "array([[[   2, 1115, 6117, ...,    1,    1,    1],\n",
       "        [   1,    1,    1, ...,    0,    0,    0]],\n",
       "\n",
       "       [[   2, 2640, 6136, ...,    1,    1,    1],\n",
       "        [   1,    1,    1, ...,    0,    0,    0]],\n",
       "\n",
       "       [[   2, 5123, 2217, ...,    1,    1,    1],\n",
       "        [   1,    1,    1, ...,    0,    0,    0]],\n",
       "\n",
       "       ...,\n",
       "\n",
       "       [[   2, 2704, 6241, ...,    1,    1,    1],\n",
       "        [   1,    1,    1, ...,    0,    0,    0]],\n",
       "\n",
       "       [[   2, 4015, 7178, ...,    1,    1,    1],\n",
       "        [   1,    1,    1, ...,    0,    0,    0]],\n",
       "\n",
       "       [[   2, 3447, 6903, ...,    1,    1,    1],\n",
       "        [   1,    1,    1, ...,    0,    0,    0]]])"
      ]
     },
     "execution_count": 7,
     "metadata": {},
     "output_type": "execute_result"
    }
   ],
   "source": [
    "X"
   ]
  },
  {
   "cell_type": "code",
   "execution_count": 8,
   "id": "77889670",
   "metadata": {},
   "outputs": [
    {
     "data": {
      "text/plain": [
       "((2, 128), (2,))"
      ]
     },
     "execution_count": 8,
     "metadata": {},
     "output_type": "execute_result"
    }
   ],
   "source": [
    "train_X, test_X, train_y, test_y = train_test_split(X, y, test_size=0.2, random_state=42)\n",
    "train_X[0].shape, train_y[0].shape"
   ]
  },
  {
   "cell_type": "code",
   "execution_count": 9,
   "id": "cbfd0b92",
   "metadata": {},
   "outputs": [],
   "source": [
    "# Bquilding the model\n",
    "class KoBertModel(tf.keras.Model):\n",
    "    def __init__(self, num_classes=2):\n",
    "        super(KoBertModel, self).__init__()\n",
    "        self.bert = TFBertModel.from_pretrained('skt/kobert-base-v1')\n",
    "        self.dropout1 = tf.keras.layers.Dropout(0.2)\n",
    "        self.dense1 = tf.keras.layers.Dense(128, activation='relu')\n",
    "        self.dropout2 = tf.keras.layers.Dropout(0.2)\n",
    "        self.dense2 = tf.keras.layers.Dense(num_classes, activation='sigmoid',)\n",
    "\n",
    "    def call(self, inputs):\n",
    "        input_ids, attention_mask = inputs[:, 0], inputs[:, 1]\n",
    "        outputs = self.bert(input_ids=input_ids, attention_mask=attention_mask)\n",
    "        pooled_output = outputs[1]  # [CLS] token representation\n",
    "        x = self.dropout1(pooled_output)\n",
    "        x = self.dense1(x)\n",
    "        x = self.dropout2(x)\n",
    "        x = self.dense2(x)\n",
    "        return x"
   ]
  },
  {
   "cell_type": "code",
   "execution_count": 10,
   "id": "dfadbde6",
   "metadata": {},
   "outputs": [
    {
     "name": "stderr",
     "output_type": "stream",
     "text": [
      "I0000 00:00:1750874969.427366   68503 gpu_device.cc:2019] Created device /job:localhost/replica:0/task:0/device:GPU:0 with 22329 MB memory:  -> device: 0, name: NVIDIA GeForce RTX 3090, pci bus id: 0000:0b:00.0, compute capability: 8.6\n",
      "All PyTorch model weights were used when initializing TFBertModel.\n",
      "\n",
      "All the weights of TFBertModel were initialized from the PyTorch model.\n",
      "If your task is similar to the task the model of the checkpoint was trained on, you can already use TFBertModel for predictions without further training.\n"
     ]
    }
   ],
   "source": [
    "model = KoBertModel(num_classes=2)\n",
    "\n",
    "model.compile(optimizer=tf.keras.optimizers.Adam(learning_rate=1e-5),\n",
    "              loss=tf.keras.losses.MeanSquaredError(),\n",
    "              metrics=[tf.keras.metrics.MeanAbsoluteError()])\n",
    "\n"
   ]
  },
  {
   "cell_type": "code",
   "execution_count": 11,
   "id": "a652e7f5",
   "metadata": {},
   "outputs": [
    {
     "name": "stdout",
     "output_type": "stream",
     "text": [
      "Model: \"ko_bert_model\"\n",
      "_________________________________________________________________\n",
      " Layer (type)                Output Shape              Param #   \n",
      "=================================================================\n",
      " tf_bert_model (TFBertModel  multiple                  92186880  \n",
      " )                                                               \n",
      "                                                                 \n",
      " dropout_37 (Dropout)        multiple                  0         \n",
      "                                                                 \n",
      " dense (Dense)               multiple                  98432     \n",
      "                                                                 \n",
      " dropout_38 (Dropout)        multiple                  0         \n",
      "                                                                 \n",
      " dense_1 (Dense)             multiple                  258       \n",
      "                                                                 \n",
      "=================================================================\n",
      "Total params: 92285570 (352.04 MB)\n",
      "Trainable params: 92285570 (352.04 MB)\n",
      "Non-trainable params: 0 (0.00 Byte)\n",
      "_________________________________________________________________\n"
     ]
    }
   ],
   "source": [
    "model(train_X[0:1], training=False)  # 모델을 초기화하기 위해 한 번 호출\n",
    "\n",
    "model.summary()"
   ]
  },
  {
   "cell_type": "code",
   "execution_count": 12,
   "id": "1a397ece",
   "metadata": {},
   "outputs": [
    {
     "name": "stdout",
     "output_type": "stream",
     "text": [
      "Epoch 1/50\n"
     ]
    },
    {
     "name": "stderr",
     "output_type": "stream",
     "text": [
      "WARNING: All log messages before absl::InitializeLog() is called are written to STDERR\n",
      "I0000 00:00:1750874987.621471   68616 service.cc:152] XLA service 0x7b9a6d418ce0 initialized for platform CUDA (this does not guarantee that XLA will be used). Devices:\n",
      "I0000 00:00:1750874987.621491   68616 service.cc:160]   StreamExecutor device (0): NVIDIA GeForce RTX 3090, Compute Capability 8.6\n",
      "2025-06-25 18:09:47.627132: I tensorflow/compiler/mlir/tensorflow/utils/dump_mlir_util.cc:269] disabling MLIR crash reproducer, set env var `MLIR_CRASH_REPRODUCER_DIRECTORY` to enable.\n",
      "I0000 00:00:1750874987.642715   68616 cuda_dnn.cc:529] Loaded cuDNN version 90300\n",
      "I0000 00:00:1750874987.718065   68616 device_compiler.h:188] Compiled cluster using XLA!  This line is logged at most once for the lifetime of the process.\n"
     ]
    },
    {
     "name": "stdout",
     "output_type": "stream",
     "text": [
      "17/17 [==============================] - 41s 461ms/step - loss: 0.0370 - mean_absolute_error: 0.1539 - val_loss: 0.0324 - val_mean_absolute_error: 0.1417\n",
      "Epoch 2/50\n",
      "17/17 [==============================] - 6s 341ms/step - loss: 0.0307 - mean_absolute_error: 0.1374 - val_loss: 0.0289 - val_mean_absolute_error: 0.1364\n",
      "Epoch 3/50\n",
      "17/17 [==============================] - 6s 341ms/step - loss: 0.0278 - mean_absolute_error: 0.1326 - val_loss: 0.0271 - val_mean_absolute_error: 0.1329\n",
      "Epoch 4/50\n",
      "17/17 [==============================] - 6s 341ms/step - loss: 0.0268 - mean_absolute_error: 0.1300 - val_loss: 0.0255 - val_mean_absolute_error: 0.1292\n",
      "Epoch 5/50\n",
      "17/17 [==============================] - 6s 335ms/step - loss: 0.0248 - mean_absolute_error: 0.1260 - val_loss: 0.0263 - val_mean_absolute_error: 0.1303\n",
      "Epoch 6/50\n",
      "17/17 [==============================] - 6s 342ms/step - loss: 0.0239 - mean_absolute_error: 0.1229 - val_loss: 0.0239 - val_mean_absolute_error: 0.1248\n",
      "Epoch 7/50\n",
      "17/17 [==============================] - 6s 342ms/step - loss: 0.0217 - mean_absolute_error: 0.1172 - val_loss: 0.0227 - val_mean_absolute_error: 0.1214\n",
      "Epoch 8/50\n",
      "17/17 [==============================] - 6s 340ms/step - loss: 0.0209 - mean_absolute_error: 0.1149 - val_loss: 0.0220 - val_mean_absolute_error: 0.1187\n",
      "Epoch 9/50\n",
      "17/17 [==============================] - 6s 334ms/step - loss: 0.0199 - mean_absolute_error: 0.1121 - val_loss: 0.0228 - val_mean_absolute_error: 0.1216\n",
      "Epoch 10/50\n",
      "17/17 [==============================] - 6s 334ms/step - loss: 0.0182 - mean_absolute_error: 0.1074 - val_loss: 0.0232 - val_mean_absolute_error: 0.1226\n",
      "Epoch 11/50\n",
      "17/17 [==============================] - 6s 339ms/step - loss: 0.0169 - mean_absolute_error: 0.1039 - val_loss: 0.0217 - val_mean_absolute_error: 0.1177\n",
      "Epoch 12/50\n",
      "17/17 [==============================] - 6s 329ms/step - loss: 0.0159 - mean_absolute_error: 0.1002 - val_loss: 0.0218 - val_mean_absolute_error: 0.1167\n",
      "Epoch 13/50\n",
      "17/17 [==============================] - 6s 334ms/step - loss: 0.0151 - mean_absolute_error: 0.0972 - val_loss: 0.0235 - val_mean_absolute_error: 0.1207\n",
      "Epoch 14/50\n",
      "17/17 [==============================] - 6s 330ms/step - loss: 0.0145 - mean_absolute_error: 0.0959 - val_loss: 0.0236 - val_mean_absolute_error: 0.1212\n"
     ]
    }
   ],
   "source": [
    "early_stopping = tf.keras.callbacks.EarlyStopping(\n",
    "    monitor='val_loss',\n",
    "    patience=3,\n",
    "    restore_best_weights=True,\n",
    ")\n",
    "\n",
    "history = model.fit(\n",
    "    x=train_X,\n",
    "    y=train_y,\n",
    "    validation_data=(test_X, test_y),\n",
    "    epochs=50,\n",
    "    batch_size=64,\n",
    "    verbose=1,\n",
    "    callbacks=[early_stopping]\n",
    ")"
   ]
  },
  {
   "cell_type": "code",
   "execution_count": 13,
   "id": "3e8cb4d2",
   "metadata": {},
   "outputs": [
    {
     "data": {
      "image/png": "[encoded data removed]",
      "text/plain": [
       "<Figure size 1200x400 with 2 Axes>"
      ]
     },
     "metadata": {},
     "output_type": "display_data"
    }
   ],
   "source": [
    "# save the model\n",
    "model.save_weights('./kobert_model_weights.h5')\n",
    "\n",
    "# visualize the training history\n",
    "import matplotlib.pyplot as plt\n",
    "def plot_training_history(history):\n",
    "    plt.figure(figsize=(12, 4))\n",
    "    \n",
    "    # Loss\n",
    "    plt.subplot(1, 2, 1)\n",
    "    plt.plot(history.history['loss'], label='Training Loss')\n",
    "    plt.plot(history.history['val_loss'], label='Validation Loss')\n",
    "    plt.title('Loss')\n",
    "    plt.xlabel('Epochs')\n",
    "    plt.ylabel('Loss')\n",
    "    plt.legend()\n",
    "    \n",
    "    # MAE\n",
    "    plt.subplot(1, 2, 2)\n",
    "    plt.plot(history.history['mean_absolute_error'], label='Training MAE')\n",
    "    plt.plot(history.history['val_mean_absolute_error'], label='Validation MAE')\n",
    "    plt.title('Mean Absolute Error')\n",
    "    plt.xlabel('Epochs')\n",
    "    plt.ylabel('MAE')\n",
    "    plt.legend()\n",
    "    \n",
    "    plt.tight_layout()\n",
    "    plt.show()\n",
    "\n",
    "plot_training_history(history)"
   ]
  },
  {
   "cell_type": "code",
   "execution_count": 14,
   "id": "448dc3f8",
   "metadata": {},
   "outputs": [
    {
     "name": "stdout",
     "output_type": "stream",
     "text": [
      "INFO:tensorflow:Assets written to: ./kobert_model/assets\n"
     ]
    },
    {
     "name": "stderr",
     "output_type": "stream",
     "text": [
      "INFO:tensorflow:Assets written to: ./kobert_model/assets\n"
     ]
    }
   ],
   "source": [
    "# Save model with SavedModel format for TensorFlow Serving\n",
    "tf.keras.models.save_model(model, './kobert_model', save_format='tf')"
   ]
  }
 ],
 "metadata": {
  "kernelspec": {
   "display_name": "project",
   "language": "python",
   "name": "project"
  },
  "language_info": {
   "codemirror_mode": {
    "name": "ipython",
    "version": 3
   },
   "file_extension": ".py",
   "mimetype": "text/x-python",
   "name": "python",
   "nbconvert_exporter": "python",
   "pygments_lexer": "ipython3",
   "version": "3.12.3"
  }
 },
 "nbformat": 4,
 "nbformat_minor": 5
}
