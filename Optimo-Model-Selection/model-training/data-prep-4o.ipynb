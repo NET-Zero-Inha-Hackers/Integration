{
 "cells": [
  {
   "cell_type": "code",
   "execution_count": null,
   "id": "ae23cced",
   "metadata": {},
   "outputs": [],
   "source": [
    "import pandas as pd\n",
    "import os\n",
    "from tqdm import tqdm\n",
    "\n",
    "print(os.getcwd())"
   ]
  },
  {
   "cell_type": "code",
   "execution_count": null,
   "id": "34b2e5bf",
   "metadata": {},
   "outputs": [],
   "source": [
    "from openai import AzureOpenAI"
   ]
  },
  {
   "cell_type": "code",
   "execution_count": null,
   "id": "f2a90127",
   "metadata": {},
   "outputs": [],
   "source": [
    "# import sentencepiece\n",
    "# import tensorflow as tf\n",
    "# import transformers \n",
    "# from transformers import TFBertModel\n",
    "\n",
    "# from kobert_tokenizer import KoBERTTokenizer"
   ]
  },
  {
   "cell_type": "code",
   "execution_count": null,
   "id": "7cdb974b",
   "metadata": {},
   "outputs": [],
   "source": [
    "df = pd.read_json('./data/SFTlabel.json') \n",
    "\n",
    "# drop data_category column\n",
    "\n",
    "\n",
    "df[['answer_count','contents']] = df['answer'].apply(pd.Series)\n",
    "df = df.drop(columns=['data_category', 'question_count', 'data_id', 'question_type', 'answer'])\n",
    "df.head()"
   ]
  },
  {
   "cell_type": "code",
   "execution_count": null,
   "id": "5d52eba8",
   "metadata": {},
   "outputs": [],
   "source": [
    "api_version = \"2024-12-01-preview\"\n",
    "\n",
    "model_type_list = ['gpt-4o-mini', 'gpt-4o', 'o4-mini']\n",
    "model_endpoint=\"https://seonwoo0808-9982-resource.cognitiveservices.azure.com/\"\n",
    "subscription_key = \"EUJZQkTsVDdYX9eIgSK6l2JVJ1FzV6g70NSom0eKgRv8HV3f2wzvJQQJ99BFACHYHv6XJ3w3AAAAACOGkSfe\"\n",
    "\n",
    "client = AzureOpenAI(\n",
    "    api_version=api_version,\n",
    "    azure_endpoint=model_endpoint,\n",
    "    api_key=subscription_key,\n",
    ")\n",
    "\n",
    "\n",
    "def gpt_ask(qustion, model_type):\n",
    "    if model_type not in model_type_list:\n",
    "        raise ValueError(f\"Model type must be one of {model_type_list}\")\n",
    "    \n",
    "    chat_prompt = [\n",
    "        {\n",
    "            \"role\": \"system\",\n",
    "            \"content\": [\n",
    "                {\n",
    "                    \"type\": \"text\",\n",
    "                    \"text\": \"You are an AI assistant that helps people find information.\"\n",
    "                }\n",
    "            ]\n",
    "        },\n",
    "        {\n",
    "            \"role\": \"user\",\n",
    "            \"content\": [\n",
    "                {\n",
    "                    \"type\": \"text\",\n",
    "                    \"text\": qustion\n",
    "                }\n",
    "            ]\n",
    "        }\n",
    "    ]\n",
    "    response = client.chat.completions.create(\n",
    "        messages=chat_prompt,\n",
    "        max_tokens=800,\n",
    "        temperature=1.0,\n",
    "        top_p=1.0,\n",
    "        frequency_penalty=0.0,\n",
    "        presence_penalty=0.0,\n",
    "        model=model_type\n",
    "    )\n",
    "\n",
    "    return response.choices[0].message.content\n",
    "    "
   ]
  },
  {
   "cell_type": "code",
   "execution_count": null,
   "id": "df71e75f",
   "metadata": {},
   "outputs": [],
   "source": [
    "# gpt_ask(df[\"question\"][0], \"gpt-4o\")"
   ]
  },
  {
   "cell_type": "code",
   "execution_count": null,
   "id": "cbfd0b92",
   "metadata": {},
   "outputs": [],
   "source": [
    "# copy df and add a new column for answers\n",
    "result = df.copy()\n",
    "result['gpt_answer'] = None\n",
    "for i in tqdm(range(len(df))):\n",
    "    result.loc[i, 'gpt_answer'] = gpt_ask(df[\"question\"][i], \"gpt-4o\")"
   ]
  },
  {
   "cell_type": "code",
   "execution_count": null,
   "id": "0f51a378",
   "metadata": {},
   "outputs": [],
   "source": [
    "result[0:19]"
   ]
  },
  {
   "cell_type": "code",
   "execution_count": null,
   "id": "c76fb58d",
   "metadata": {},
   "outputs": [],
   "source": [
    "# save the result to a csv file\n",
    "result.to_csv('./data/SFTlabel_gpt4o.csv', index=False)"
   ]
  }
 ],
 "metadata": {
  "kernelspec": {
   "display_name": "project",
   "language": "python",
   "name": "project"
  },
  "language_info": {
   "codemirror_mode": {
    "name": "ipython",
    "version": 3
   },
   "file_extension": ".py",
   "mimetype": "text/x-python",
   "name": "python",
   "nbconvert_exporter": "python",
   "pygments_lexer": "ipython3",
   "version": "3.12.3"
  }
 },
 "nbformat": 4,
 "nbformat_minor": 5
}
